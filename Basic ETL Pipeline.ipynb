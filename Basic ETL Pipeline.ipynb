{
 "cells": [
  {
   "cell_type": "code",
   "execution_count": 22,
   "id": "a2f1f3ff",
   "metadata": {},
   "outputs": [],
   "source": [
    "from bs4 import BeautifulSoup\n",
    "import pandas as pd\n",
    "import json\n",
    "import requests\n",
    "from pandas import json_normalize\n",
    "from sqlalchemy import create_engine"
   ]
  },
  {
   "cell_type": "markdown",
   "id": "cf9f1c28",
   "metadata": {},
   "source": [
    "# CRAWL"
   ]
  },
  {
   "cell_type": "code",
   "execution_count": 25,
   "id": "afa53e87",
   "metadata": {},
   "outputs": [],
   "source": [
    "html_data=requests.get(\"https://www.goibibo.com/hotels/hotels-in-shimla-ct/\")\n",
    "url=\"https://www.goibibo.com/hotels/hotels-in-shimla-ct/\""
   ]
  },
  {
   "cell_type": "code",
   "execution_count": 32,
   "id": "e431d55d",
   "metadata": {},
   "outputs": [
    {
     "name": "stdout",
     "output_type": "stream",
     "text": [
      "403\n"
     ]
    }
   ],
   "source": [
    "print(html_data.status_code)\n",
    "\n"
   ]
  },
  {
   "cell_type": "raw",
   "id": "28960c69",
   "metadata": {},
   "source": [
    "#as the output is 403 means the extaction of data is forbidden"
   ]
  },
  {
   "cell_type": "code",
   "execution_count": 23,
   "id": "86abff68",
   "metadata": {},
   "outputs": [],
   "source": [
    "soup=BeautifulSoup(html_data.text,\"html.parser\")"
   ]
  },
  {
   "cell_type": "code",
   "execution_count": 24,
   "id": "8c30e1e5",
   "metadata": {},
   "outputs": [],
   "source": [
    "headers = {\n",
    "    'User-Agent': \"Mozilla/5.0 (X11; Linux x86_64) AppleWebKit/537.36 (KHTML, like Gecko) Chrome/77.0.3865.90 Safari/537.36\"\n",
    "    }"
   ]
  },
  {
   "cell_type": "code",
   "execution_count": 26,
   "id": "c38a8480",
   "metadata": {},
   "outputs": [],
   "source": [
    "response = requests.request(\"GET\", url, headers=headers)"
   ]
  },
  {
   "cell_type": "code",
   "execution_count": 29,
   "id": "329b29d1",
   "metadata": {},
   "outputs": [],
   "source": [
    "data = BeautifulSoup(response.text, 'html.parser') #data gets the whole HTML code of the website"
   ]
  },
  {
   "cell_type": "markdown",
   "id": "576aade7",
   "metadata": {},
   "source": [
    "# Parse and Transform"
   ]
  },
  {
   "cell_type": "code",
   "execution_count": 30,
   "id": "a8f860a6",
   "metadata": {},
   "outputs": [],
   "source": [
    "cards_data = data.find_all('div', attrs={'class', 'width100 fl htlListSeo hotel-tile-srp-container hotel-tile-srp-container-template new-htl-design-tile-main-block'})\n",
    "#just go on the required data from the website and look the class on which it is"
   ]
  },
  {
   "cell_type": "code",
   "execution_count": 31,
   "id": "03b5799f",
   "metadata": {},
   "outputs": [
    {
     "name": "stdout",
     "output_type": "stream",
     "text": [
      "Total Number of Cards Found :  0\n"
     ]
    }
   ],
   "source": [
    "print('Total Number of Cards Found : ', len(cards_data))\n",
    "\n",
    "# source code of hotel cards\n",
    "for card in cards_data:\n",
    "    print(card)"
   ]
  },
  {
   "cell_type": "code",
   "execution_count": 34,
   "id": "bf5f4b3b",
   "metadata": {},
   "outputs": [],
   "source": [
    "#searching for the price which is in the paragraph tag, searching the tag and the class which is specified to it\n",
    "for card in cards_data:\n",
    "\n",
    "    # get the hotel name\n",
    "    hotel_name = card.find('p')\n",
    "\n",
    "    # get the room price\n",
    "    room_price = card.find('li', attrs={'class': 'htl-tile-discount-prc'})\n",
    "    print(hotel_name.text, room_price.text)"
   ]
  },
  {
   "cell_type": "code",
   "execution_count": 36,
   "id": "31b38df8",
   "metadata": {},
   "outputs": [],
   "source": [
    "scraped_data = []\n",
    "\n",
    "for card in cards_data:\n",
    "\n",
    "    # initialize the dictionary\n",
    "    card_details = {}\n",
    "\n",
    "    # get the hotel name\n",
    "    hotel_name = card.find('p')\n",
    "\n",
    "    # get the room price\n",
    "    room_price = card.find('li', attrs={'class': 'htl-tile-discount-prc'})\n",
    "\n",
    "    # add data to the dictionary\n",
    "    card_details['hotel_name'] = hotel_name.text\n",
    "    card_details['room_price'] = room_price.text\n",
    "\n",
    "    # append the scraped data to the list\n",
    "    scraped_data.append(card_details)\n",
    "dataFrame = pd.DataFrame.from_dict(scraped_data)\n",
    "\n",
    "# save the scraped data as CSV file\n",
    "dataFrame.to_csv('hotels_data.csv', index=False)"
   ]
  },
  {
   "cell_type": "code",
   "execution_count": null,
   "id": "f35ecf15",
   "metadata": {},
   "outputs": [],
   "source": []
  }
 ],
 "metadata": {
  "kernelspec": {
   "display_name": "Python 3 (ipykernel)",
   "language": "python",
   "name": "python3"
  },
  "language_info": {
   "codemirror_mode": {
    "name": "ipython",
    "version": 3
   },
   "file_extension": ".py",
   "mimetype": "text/x-python",
   "name": "python",
   "nbconvert_exporter": "python",
   "pygments_lexer": "ipython3",
   "version": "3.9.13"
  }
 },
 "nbformat": 4,
 "nbformat_minor": 5
}
