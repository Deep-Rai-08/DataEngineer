{
 "cells": [
  {
   "cell_type": "code",
   "execution_count": 21,
   "id": "551d3ac0",
   "metadata": {},
   "outputs": [],
   "source": [
    "from bs4 import BeautifulSoup\n",
    "import requests\n",
    "import pandas as pd\n",
    "import json\n",
    "import os\n",
    "import numpy as np\n",
    "import sqlite3\n",
    "from tqdm import tqdm"
   ]
  },
  {
   "cell_type": "code",
   "execution_count": null,
   "id": "76f12f92",
   "metadata": {},
   "outputs": [],
   "source": []
  },
  {
   "cell_type": "code",
   "execution_count": null,
   "id": "8ce11fa3",
   "metadata": {},
   "outputs": [],
   "source": []
  },
  {
   "cell_type": "code",
   "execution_count": null,
   "id": "e858a0af",
   "metadata": {},
   "outputs": [],
   "source": []
  },
  {
   "cell_type": "code",
   "execution_count": 1,
   "id": "4faa03dd",
   "metadata": {},
   "outputs": [],
   "source": [
    "OWNER = 'CSSEGISandData'\n",
    "REPO = 'COVID-19'\n",
    "PATH = 'csse_covid_19_data/csse_covid_19_daily_reports'\n",
    "URL = f'https://api.github.com/repos/{OWNER}/{REPO}/contents/{PATH}'"
   ]
  },
  {
   "cell_type": "code",
   "execution_count": 2,
   "id": "0a0705c2",
   "metadata": {},
   "outputs": [],
   "source": [
    "url='https://api.github.com/repos/CSSEGISandData/COVID-19/contents/csse_covid_19_data/csse_covid_19_daily_reports'"
   ]
  },
  {
   "cell_type": "code",
   "execution_count": 6,
   "id": "ec250bd0",
   "metadata": {},
   "outputs": [],
   "source": [
    "import requests\n",
    "\n",
    "url = \"'https://api.github.com/repos/CSSEGISandData/COVID-19/contents/csse_covid_19_data/csse_covid_19_daily_reports'\"\n",
    "\n",
    "payload={}\n",
    "headers = {}\n",
    "\n",
    "response = requests.request(\"GET\", URL, headers=headers, data=payload)\n",
    "\n",
    "#print(response.text)\n"
   ]
  },
  {
   "cell_type": "code",
   "execution_count": 15,
   "id": "5d6dd619",
   "metadata": {},
   "outputs": [
    {
     "name": "stdout",
     "output_type": "stream",
     "text": [
      "200\n"
     ]
    }
   ],
   "source": [
    "response=requests.get(URL)\n",
    "print(response.status_code)"
   ]
  },
  {
   "cell_type": "code",
   "execution_count": 10,
   "id": "2ad8133e",
   "metadata": {},
   "outputs": [
    {
     "name": "stderr",
     "output_type": "stream",
     "text": [
      "100%|██████████| 1000/1000 [00:00<?, ?it/s]\n"
     ]
    }
   ],
   "source": [
    "download_urls = []\n",
    "response = requests.get(URL)\n",
    "for data in tqdm(response.json()):\n",
    "    if data['name'].endswith('.csv'):\n",
    "        download_urls.append(data['download_url'])"
   ]
  },
  {
   "cell_type": "code",
   "execution_count": 12,
   "id": "7a27b78d",
   "metadata": {},
   "outputs": [],
   "source": [
    "relabel = {\n",
    "    # 'Last Update': 'Last_Update',\n",
    "    'Country/Region': 'Country_Region',\n",
    "    'Lat': 'Latitude',\n",
    "    'Long_': 'Longitude',\n",
    "    'Province/State': 'Province_State',\n",
    "}"
   ]
  },
  {
   "cell_type": "code",
   "execution_count": 14,
   "id": "e061a812",
   "metadata": {},
   "outputs": [],
   "source": [
    "def factor_dataframe(dat, filename):\n",
    "    \"\"\" Refactor the dataframe to be uploaded into a SQL database\n",
    "    as a pandas DataFrame\n",
    "    \"\"\"\n",
    "    # rename labels\n",
    "    for label in dat:\n",
    "        if label in relabel:\n",
    "            dat = dat.rename(columns = {label: relabel[label]})\n",
    "    \n",
    "    # return a dataframe with these parameters\n",
    "    labels = ['Province_State', 'Country_Region', 'Last_Update', 'Confirmed', 'Deaths', 'Recovered']\n",
    "    # filename is datetime\n",
    "    if 'Last_Update' not in dat:\n",
    "        dat['Last_Update'] = pd.to_datetime(filename)\n",
    "\n",
    "    # replace columns not in dataframe with nan\n",
    "    for label in labels:\n",
    "        if label not in dat:\n",
    "            dat[label] = np.nan\n",
    "\n",
    "    return dat[labels]"
   ]
  },
  {
   "cell_type": "code",
   "execution_count": 18,
   "id": "170092f4",
   "metadata": {},
   "outputs": [],
   "source": [
    "#df=factor_dataframe(download_urls,\"Response.csv\")"
   ]
  },
  {
   "cell_type": "code",
   "execution_count": 22,
   "id": "99d138e4",
   "metadata": {},
   "outputs": [
    {
     "name": "stdout",
     "output_type": "stream",
     "text": [
      "Uploading into database\n"
     ]
    },
    {
     "name": "stderr",
     "output_type": "stream",
     "text": [
      "100%|██████████| 999/999 [18:46<00:00,  1.13s/it]\n"
     ]
    }
   ],
   "source": [
    "def upload_to_sql(filenames, db_name, debug=False):\n",
    "    \"\"\" Given a list of paths, upload to a database\n",
    "    \"\"\"\n",
    "    conn = sqlite3.connect(f\"{db_name}.db\")\n",
    "    \n",
    "    if debug:\n",
    "        print(\"Uploading into database\")\n",
    "    for i, file_path in tqdm(list(enumerate(filenames))):\n",
    "        \n",
    "        dat = pd.read_csv(file_path)\n",
    "\n",
    "        # rename labels\n",
    "        filename = os.path.basename(file_path).split('.')[0]\n",
    "        dat = factor_dataframe(dat, filename)\n",
    "\n",
    "        # write records to sql database\n",
    "        if i == 0: # if first entry, and table name already exist, replace\n",
    "            dat.to_sql(db_name, con=conn, index = False, if_exists='replace')\n",
    "        else: # otherwise append to current table given db_name\n",
    "            dat.to_sql(db_name, con=conn, index = False, if_exists='append')\n",
    "\n",
    "\n",
    "# upload into sql database\n",
    "upload_to_sql(download_urls, 'example', debug=True)"
   ]
  },
  {
   "cell_type": "code",
   "execution_count": null,
   "id": "970ff30f",
   "metadata": {},
   "outputs": [],
   "source": []
  }
 ],
 "metadata": {
  "kernelspec": {
   "display_name": "Python 3 (ipykernel)",
   "language": "python",
   "name": "python3"
  },
  "language_info": {
   "codemirror_mode": {
    "name": "ipython",
    "version": 3
   },
   "file_extension": ".py",
   "mimetype": "text/x-python",
   "name": "python",
   "nbconvert_exporter": "python",
   "pygments_lexer": "ipython3",
   "version": "3.9.13"
  }
 },
 "nbformat": 4,
 "nbformat_minor": 5
}
