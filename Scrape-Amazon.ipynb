{
 "cells": [
  {
   "cell_type": "code",
   "execution_count": 1,
   "id": "2099a4f2",
   "metadata": {},
   "outputs": [],
   "source": [
    "#scrape the amazon website to get the price, name, and rating of mobile phones for this example. "
   ]
  },
  {
   "cell_type": "code",
   "execution_count": 2,
   "id": "e263b037",
   "metadata": {},
   "outputs": [],
   "source": [
    "# To Scrape Price, Name & Rating"
   ]
  },
  {
   "cell_type": "code",
   "execution_count": null,
   "id": "24ce4428",
   "metadata": {},
   "outputs": [],
   "source": [
    "#Whole screen class=centerColAlign centerColAlign-bbcxoverride\n",
    "#price=a-price-whole\n",
    "#Rating=a-size-base\n",
    "#name=a-size-large product-title-word-break"
   ]
  },
  {
   "cell_type": "code",
   "execution_count": 8,
   "id": "1abf9dd6",
   "metadata": {},
   "outputs": [],
   "source": [
    "import pandas as pd\n",
    "import numpy as np\n",
    "from bs4 import BeautifulSoup\n",
    "#import requests\n",
    "import json\n",
    "from selenium import webdriver"
   ]
  },
  {
   "cell_type": "code",
   "execution_count": null,
   "id": "8ecbd949",
   "metadata": {},
   "outputs": [],
   "source": []
  },
  {
   "cell_type": "code",
   "execution_count": null,
   "id": "e73e3f57",
   "metadata": {},
   "outputs": [],
   "source": []
  },
  {
   "cell_type": "code",
   "execution_count": 9,
   "id": "50586976",
   "metadata": {},
   "outputs": [
    {
     "name": "stdout",
     "output_type": "stream",
     "text": [
      "200\n"
     ]
    }
   ],
   "source": [
    "import requests\n",
    "\n",
    "url = \"https://www.amazon.in/gp/product/B09DMT6V7G/ref=s9_acss_bw_cg_SERIES_3a1_w?pf_rd_m=A1K21FY43GMZF8&pf_rd_s=merchandised-search-5&pf_rd_r=XMYNP8SWAGSCKFMMAJT6&pf_rd_t=101&pf_rd_p=2a1ca9d4-ed84-4a24-8db3-0c378b495799&pf_rd_i=1375424031\"\n",
    "\n",
    "payload={}\n",
    "headers = {\n",
    "  'Cookie': 'i18n-prefs=INR; session-id=261-3431849-1526034; session-id-time=2082787201l; session-token=\"aHgvdB8qWWdMSxWGraE3+Ns+vLLZE+jXNwQ5xFYRtVdbGnR8zR4fAEbOZSXKEzfoG/V4TjRg7i2C7d7+hAogS2Z+7zYdhNJmfQtBNiDGgxBIyuJmrbnxGwst7FEiE0Q9+0FRcv63QKJNX2esjZEHp3lT5AHmYEyfZI7VJ68fzVFummnspK+wDYZzUUVZwuSBjUaw9AOhpht10nrKKaW91MTMeFlm2/Ai6BBU9KpaV80=\"; ubid-acbin=260-7069354-6961857'\n",
    "}\n",
    "html_data=requests.get(url)\n",
    "print(html_data.status_code)\n",
    "response = requests.request(\"GET\", url, headers=headers, data=payload)\n",
    "\n",
    "#(response.text)\n"
   ]
  },
  {
   "cell_type": "code",
   "execution_count": null,
   "id": "5dc5ca90",
   "metadata": {},
   "outputs": [],
   "source": []
  },
  {
   "cell_type": "code",
   "execution_count": 10,
   "id": "99bb03f1",
   "metadata": {},
   "outputs": [
    {
     "name": "stderr",
     "output_type": "stream",
     "text": [
      "C:\\Users\\Lenovo\\AppData\\Local\\Temp/ipykernel_5484/954584451.py:4: DeprecationWarning: executable_path has been deprecated, please pass in a Service object\n",
      "  driver = webdriver.Chrome(\"/usr/lib/chromium-browser/chromedriver\")\n"
     ]
    }
   ],
   "source": [
    "products=[] #store name of the product\n",
    "prices=[] #store price of the product\n",
    "ratings=[] #store rating of the product\n",
    "driver = webdriver.Chrome(\"/usr/lib/chromium-browser/chromedriver\")\n",
    "driver.get(\"https://www.amazon.in/gp/product/B09DMT6V7G/ref=s9_acss_bw_cg_SERIES_3a1_w?pf_rd_m=A1K21FY43GMZF8&pf_rd_s=merchandised-search-5&pf_rd_r=XMYNP8SWAGSCKFMMAJT6&pf_rd_t=101&pf_rd_p=2a1ca9d4-ed84-4a24-8db3-0c378b495799&pf_rd_i=1375424031\")"
   ]
  },
  {
   "cell_type": "code",
   "execution_count": 19,
   "id": "b5e75190",
   "metadata": {},
   "outputs": [],
   "source": [
    "content = driver.page_source\n",
    "soup = BeautifulSoup(content)\n",
    "for a in soup.findAll('a',href=True, attrs={'class':'centerColAlign centerColAlign-bbcxoverride'}):\n",
    "    name=a.find('div', attrs={'class':'a-size-large product-title-word-break'})\n",
    "    price=a.find('div', attrs={'class':'a-price-whole'})\n",
    "    rating=a.find('div', attrs={'class':'a-size-base'})\n",
    "    products.append(name.text)\n",
    "    prices.append(price.text)\n",
    "    ratings.append(rating.text) "
   ]
  },
  {
   "cell_type": "code",
   "execution_count": 17,
   "id": "f6a7829c",
   "metadata": {},
   "outputs": [],
   "source": [
    "df = pd.DataFrame({'Product Name':products,'Price':prices,'Rating':ratings}) \n",
    "df.to_csv('products.csv', index=False, encoding='utf-8')"
   ]
  },
  {
   "cell_type": "code",
   "execution_count": null,
   "id": "210097ab",
   "metadata": {},
   "outputs": [],
   "source": []
  },
  {
   "cell_type": "code",
   "execution_count": null,
   "id": "df8199c3",
   "metadata": {},
   "outputs": [],
   "source": []
  }
 ],
 "metadata": {
  "kernelspec": {
   "display_name": "Python 3 (ipykernel)",
   "language": "python",
   "name": "python3"
  },
  "language_info": {
   "codemirror_mode": {
    "name": "ipython",
    "version": 3
   },
   "file_extension": ".py",
   "mimetype": "text/x-python",
   "name": "python",
   "nbconvert_exporter": "python",
   "pygments_lexer": "ipython3",
   "version": "3.9.13"
  }
 },
 "nbformat": 4,
 "nbformat_minor": 5
}
