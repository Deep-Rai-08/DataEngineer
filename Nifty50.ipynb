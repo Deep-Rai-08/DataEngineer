{
 "cells": [
  {
   "cell_type": "code",
   "execution_count": 7,
   "id": "3afaa2ae",
   "metadata": {},
   "outputs": [],
   "source": [
    "import pandas as pd\n",
    "import selenium\n",
    "from selenium import webdriver\n",
    "import requests\n",
    "from bs4 import BeautifulSoup"
   ]
  },
  {
   "cell_type": "code",
   "execution_count": 8,
   "id": "64f884f1",
   "metadata": {},
   "outputs": [],
   "source": [
    "# 1. https://www1.nseindia.com/\n",
    "\n",
    "# 2. https://finance.yahoo.com/\n",
    "\n",
    "# 3. https://in.investing.com/\n",
    "# website used ^"
   ]
  },
  {
   "cell_type": "code",
   "execution_count": 9,
   "id": "91a93fdb",
   "metadata": {},
   "outputs": [],
   "source": [
    "driver=webdriver.Chrome()"
   ]
  },
  {
   "cell_type": "code",
   "execution_count": 13,
   "id": "fafe7189",
   "metadata": {},
   "outputs": [],
   "source": [
    "enddate='20/02/2023'\n",
    "stdate='11/08/2022'\n",
    "url=\"https://in.investing.com/indices/s-p-cnx-nifty-historical-data?end_date={}&st_date={}\".format(enddate,stdate)\n"
   ]
  },
  {
   "cell_type": "code",
   "execution_count": 14,
   "id": "e40c1bb1",
   "metadata": {},
   "outputs": [],
   "source": [
    "driver.get(url)"
   ]
  },
  {
   "cell_type": "code",
   "execution_count": 16,
   "id": "b13cdaa9",
   "metadata": {},
   "outputs": [],
   "source": [
    "content=driver.page_source\n",
    "soup=BeautifulSoup(content)"
   ]
  },
  {
   "cell_type": "code",
   "execution_count": 17,
   "id": "c90b2faf",
   "metadata": {},
   "outputs": [],
   "source": [
    "date=[]\n",
    "for a in soup.findAll('td', attrs={'class':'col-rowDate'}):\n",
    "    date_txt=a.find('span', attrs={'class':'text'})\n",
    "    date.append(date_txt.text)"
   ]
  },
  {
   "cell_type": "code",
   "execution_count": 30,
   "id": "b0ae8e2f",
   "metadata": {},
   "outputs": [],
   "source": [
    "#Loading Closing Prices\n",
    "close=[]\n",
    "for a in soup.findAll('td', attrs={'class':'col-last_close'}):\n",
    "    close_txt=a.find('span', attrs={'class':'text'})\n",
    "    close.append(close_txt.text)\n",
    "#Loading Open Prices\n",
    "open=[]\n",
    "for a in soup.findAll('td', attrs={'class':'col-last_open'}):\n",
    "    open_txt=a.find('span', attrs={'class':'text'})\n",
    "    open.append(open_txt.text)\n",
    "#Loading High Prices\n",
    "high=[]\n",
    "for a in soup.findAll('td', attrs={'class':'col-last_max'}):\n",
    "    high_txt=a.find('span', attrs={'class':'text'})\n",
    "    high.append(high_txt.text)\n",
    "#Loading Low Prices\n",
    "low=[]\n",
    "for a in soup.findAll('td', attrs={'class':'col-last_min'}):\n",
    "    low_txt=a.find('span', attrs={'class':'text'})\n",
    "    low.append(low_txt.text)"
   ]
  },
  {
   "cell_type": "code",
   "execution_count": 34,
   "id": "9c68d62c",
   "metadata": {},
   "outputs": [],
   "source": [
    "nifty50=pd.DataFrame({'Date':date,'Opne':open,'Close':close,'Low':low,'High':high})\n",
    "# print(len(low))"
   ]
  },
  {
   "cell_type": "code",
   "execution_count": 49,
   "id": "67dd0866",
   "metadata": {},
   "outputs": [],
   "source": [
    "def load(dataframe):\n",
    "    dataframe.to_csv(\"Final_Nifty50.csv\")\n"
   ]
  },
  {
   "cell_type": "code",
   "execution_count": 38,
   "id": "8cea2498",
   "metadata": {},
   "outputs": [],
   "source": [
    "load(nifty50)"
   ]
  },
  {
   "cell_type": "code",
   "execution_count": 46,
   "id": "ac6d8529",
   "metadata": {},
   "outputs": [
    {
     "data": {
      "text/plain": [
       "<bound method Series.drop of 0      0\n",
       "1      1\n",
       "2      2\n",
       "3      3\n",
       "4      4\n",
       "      ..\n",
       "60    60\n",
       "61    61\n",
       "62    62\n",
       "63    63\n",
       "64    64\n",
       "Name: Unnamed: 0, Length: 65, dtype: int64>"
      ]
     },
     "execution_count": 46,
     "metadata": {},
     "output_type": "execute_result"
    }
   ],
   "source": [
    "df=pd.read_csv('Final_Nifty.csv')\n",
    "df['Unnamed: 0'].drop\n"
   ]
  },
  {
   "cell_type": "code",
   "execution_count": 47,
   "id": "0f9436a1",
   "metadata": {},
   "outputs": [],
   "source": [
    "del df['Unnamed: 0']"
   ]
  },
  {
   "cell_type": "code",
   "execution_count": 50,
   "id": "963baef2",
   "metadata": {},
   "outputs": [],
   "source": [
    "load(df)"
   ]
  },
  {
   "cell_type": "code",
   "execution_count": null,
   "id": "4ee01567",
   "metadata": {},
   "outputs": [],
   "source": []
  }
 ],
 "metadata": {
  "kernelspec": {
   "display_name": "Python 3 (ipykernel)",
   "language": "python",
   "name": "python3"
  },
  "language_info": {
   "codemirror_mode": {
    "name": "ipython",
    "version": 3
   },
   "file_extension": ".py",
   "mimetype": "text/x-python",
   "name": "python",
   "nbconvert_exporter": "python",
   "pygments_lexer": "ipython3",
   "version": "3.9.13"
  }
 },
 "nbformat": 4,
 "nbformat_minor": 5
}
